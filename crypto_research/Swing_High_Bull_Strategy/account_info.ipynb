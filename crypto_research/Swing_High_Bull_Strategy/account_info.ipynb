{
 "cells": [
  {
   "cell_type": "code",
   "execution_count": 1,
   "metadata": {},
   "outputs": [],
   "source": [
    "from dotenv import load_dotenv\n",
    "load_dotenv()\n",
    "from datetime import datetime as dt\n",
    "from datetime import timedelta\n",
    "import csv\n",
    "import time\n",
    "import pytz\n",
    "from binance.client import Client\n",
    "import pandas as pd\n",
    "import os\n",
    "from binance.spot import Spot\n",
    "\n",
    "client = Spot()\n",
    "client = Spot(api_key=os.getenv('Binance_API_KEY'), api_secret=os.getenv('Binance_secret_KEY'))\n"
   ]
  },
  {
   "cell_type": "code",
   "execution_count": null,
   "metadata": {},
   "outputs": [],
   "source": [
    "# Get the Account Information and print what I am holding\n",
    "def get_account_info():\n",
    "    account_info = client.account()\n",
    "    print(account_info)\n",
    "    print(\"Account Information: \")\n",
    "    for balance in account_info['balances']:\n",
    "        if float(balance['free']) > 0:\n",
    "            print(balance['asset'] + \": \" + balance['free'])\n",
    "    print(\"\\n\")\n",
    "\n",
    "\n",
    "get_account_info()"
   ]
  }
 ],
 "metadata": {
  "kernelspec": {
   "display_name": "coding_env",
   "language": "python",
   "name": "python3"
  },
  "language_info": {
   "codemirror_mode": {
    "name": "ipython",
    "version": 3
   },
   "file_extension": ".py",
   "mimetype": "text/x-python",
   "name": "python",
   "nbconvert_exporter": "python",
   "pygments_lexer": "ipython3",
   "version": "3.12.3"
  }
 },
 "nbformat": 4,
 "nbformat_minor": 2
}
