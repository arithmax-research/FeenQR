{
 "cells": [
  {
   "cell_type": "markdown",
   "metadata": {},
   "source": [
    "# Import Libraries\n",
    "Import necessary libraries such as NumPy, Pandas, yFinance, and Statsmodels."
   ]
  },
  {
   "cell_type": "code",
   "execution_count": 1,
   "metadata": {},
   "outputs": [],
   "source": [
    "# Import necessary libraries\n",
    "import numpy as np  # For numerical computations\n",
    "import pandas as pd  # For data manipulation\n",
    "import yfinance as yf  # For downloading financial data\n",
    "import statsmodels.api as sm  # For statistical modeling"
   ]
  },
  {
   "cell_type": "markdown",
   "metadata": {},
   "source": [
    "# Define Parameters\n",
    "Define key parameters including asset tickers, lookback window, standard deviation multiples, and whether to use cointegration."
   ]
  },
  {
   "cell_type": "code",
   "execution_count": 2,
   "metadata": {},
   "outputs": [],
   "source": [
    "# Define key parameters\n",
    "asset1 = 'AAPL'  # Ticker for the first asset\n",
    "asset2 = 'MSFT'  # Ticker for the second asset\n",
    "lookback_window = 252  # Lookback window for rolling calculations\n",
    "std_dev_multiples = np.arange(1.5, 3.1, 0.5)  # Range of standard deviation multiples for optimization\n",
    "use_cointegration = True  # Flag to determine whether to use cointegration in the strategy"
   ]
  },
  {
   "cell_type": "markdown",
   "metadata": {},
   "source": [
    "# Download Data\n",
    "Use yFinance to download historical price data for the selected assets."
   ]
  },
  {
   "cell_type": "code",
   "execution_count": 3,
   "metadata": {},
   "outputs": [
    {
     "name": "stdout",
     "output_type": "stream",
     "text": [
      "YF.download() has changed argument auto_adjust default to True\n"
     ]
    },
    {
     "name": "stderr",
     "output_type": "stream",
     "text": [
      "[*********************100%***********************]  1 of 1 completed\n",
      "[*********************100%***********************]  1 of 1 completed\n"
     ]
    },
    {
     "data": {
      "text/plain": [
       "(Price            Close        High         Low        Open     Volume\n",
       " Ticker            AAPL        AAPL        AAPL        AAPL       AAPL\n",
       " Date                                                                 \n",
       " 2022-01-03  178.879929  179.734977  174.653889  174.771820  104487900\n",
       " 2022-01-04  176.609650  179.793936  176.039622  179.489269   99310400\n",
       " 2022-01-05  171.911835  177.071549  171.636651  176.521181   94537600\n",
       " 2022-01-06  169.042084  172.285336  168.688274  169.730043   96904000\n",
       " 2022-01-07  169.209167  171.145290  168.088773  169.916787   86709100,\n",
       " Price            Close        High         Low        Open    Volume\n",
       " Ticker            MSFT        MSFT        MSFT        MSFT      MSFT\n",
       " Date                                                                \n",
       " 2022-01-03  325.634796  328.796299  320.800127  326.218464  28865100\n",
       " 2022-01-04  320.051086  326.072535  317.239767  325.712586  32674300\n",
       " 2022-01-05  307.765045  317.191191  307.375943  316.986888  40054300\n",
       " 2022-01-06  305.333069  310.021828  303.008134  304.622936  39646100\n",
       " 2022-01-07  305.488770  307.881776  301.646315  305.595760  32720000)"
      ]
     },
     "execution_count": 3,
     "metadata": {},
     "output_type": "execute_result"
    }
   ],
   "source": [
    "# Download historical price data for the selected assets\n",
    "data1 = yf.download(asset1, start='2022-01-01', end='2024-01-01')  # Download data for asset1\n",
    "data2 = yf.download(asset2, start='2022-01-01', end='2024-01-01')  # Download data for asset2\n",
    "\n",
    "# Display the first few rows of the downloaded data for verification\n",
    "data1.head(), data2.head()"
   ]
  },
  {
   "cell_type": "markdown",
   "metadata": {},
   "source": [
    "# Calculate Spread and Z-Score\n",
    "Calculate the spread between the two assets, compute rolling mean and standard deviation, and derive the Z-score."
   ]
  },
  {
   "cell_type": "code",
   "execution_count": 6,
   "metadata": {},
   "outputs": [
    {
     "name": "stderr",
     "output_type": "stream",
     "text": [
      "/tmp/ipykernel_125412/2509312226.py:5: FutureWarning: Series.__getitem__ treating keys as positions is deprecated. In a future version, integer keys will always be treated as labels (consistent with DataFrame behavior). To access a value by position, use `ser.iloc[pos]`\n",
      "  hedge_ratio = model.params[1]  # Extract the hedge ratio\n"
     ]
    },
    {
     "data": {
      "text/html": [
       "<div>\n",
       "<style scoped>\n",
       "    .dataframe tbody tr th:only-of-type {\n",
       "        vertical-align: middle;\n",
       "    }\n",
       "\n",
       "    .dataframe tbody tr th {\n",
       "        vertical-align: top;\n",
       "    }\n",
       "\n",
       "    .dataframe thead th {\n",
       "        text-align: right;\n",
       "    }\n",
       "</style>\n",
       "<table border=\"1\" class=\"dataframe\">\n",
       "  <thead>\n",
       "    <tr style=\"text-align: right;\">\n",
       "      <th>Ticker</th>\n",
       "      <th>AAPL</th>\n",
       "      <th>MSFT</th>\n",
       "    </tr>\n",
       "    <tr>\n",
       "      <th>Date</th>\n",
       "      <th></th>\n",
       "      <th></th>\n",
       "    </tr>\n",
       "  </thead>\n",
       "  <tbody>\n",
       "    <tr>\n",
       "      <th>2022-01-03</th>\n",
       "      <td>NaN</td>\n",
       "      <td>NaN</td>\n",
       "    </tr>\n",
       "    <tr>\n",
       "      <th>2022-01-04</th>\n",
       "      <td>NaN</td>\n",
       "      <td>NaN</td>\n",
       "    </tr>\n",
       "    <tr>\n",
       "      <th>2022-01-05</th>\n",
       "      <td>NaN</td>\n",
       "      <td>NaN</td>\n",
       "    </tr>\n",
       "    <tr>\n",
       "      <th>2022-01-06</th>\n",
       "      <td>NaN</td>\n",
       "      <td>NaN</td>\n",
       "    </tr>\n",
       "    <tr>\n",
       "      <th>2022-01-07</th>\n",
       "      <td>NaN</td>\n",
       "      <td>NaN</td>\n",
       "    </tr>\n",
       "  </tbody>\n",
       "</table>\n",
       "</div>"
      ],
      "text/plain": [
       "Ticker      AAPL  MSFT\n",
       "Date                  \n",
       "2022-01-03   NaN   NaN\n",
       "2022-01-04   NaN   NaN\n",
       "2022-01-05   NaN   NaN\n",
       "2022-01-06   NaN   NaN\n",
       "2022-01-07   NaN   NaN"
      ]
     },
     "execution_count": 6,
     "metadata": {},
     "output_type": "execute_result"
    }
   ],
   "source": [
    "# Calculate the spread between the two assets\n",
    "if use_cointegration:\n",
    "    # Perform linear regression to find the hedge ratio\n",
    "    model = sm.OLS(data1['Close'], sm.add_constant(data2['Close'])).fit()\n",
    "    hedge_ratio = model.params[1]  # Extract the hedge ratio\n",
    "    spread = data1['Close'] - hedge_ratio * data2['Close']  # Calculate the spread using the hedge ratio\n",
    "else:\n",
    "    spread = data1['Close'] - data2['Close']  # Calculate the spread without cointegration\n",
    "\n",
    "# Compute rolling mean and standard deviation of the spread\n",
    "spread_mean = spread.rolling(window=lookback_window).mean()  # Rolling mean\n",
    "spread_std = spread.rolling(window=lookback_window).std()  # Rolling standard deviation\n",
    "\n",
    "# Derive the Z-score\n",
    "z_score = (spread - spread_mean) / spread_std  # Z-score calculation\n",
    "\n",
    "# Display the first few rows of the calculated Z-score for verification\n",
    "z_score.head()"
   ]
  },
  {
   "cell_type": "markdown",
   "metadata": {},
   "source": [
    "# Backtest Pairs Trading Strategy\n",
    "Define a function to backtest the pairs trading strategy and calculate the Sharpe ratio and cumulative returns."
   ]
  },
  {
   "cell_type": "code",
   "execution_count": 7,
   "metadata": {},
   "outputs": [
    {
     "ename": "ValueError",
     "evalue": "Expected a 1D array, got an array with shape (501, 2)",
     "output_type": "error",
     "traceback": [
      "\u001b[0;31m---------------------------------------------------------------------------\u001b[0m",
      "\u001b[0;31mKeyError\u001b[0m                                  Traceback (most recent call last)",
      "File \u001b[0;32m~/anaconda3/envs/trading_env/lib/python3.12/site-packages/pandas/core/frame.py:4485\u001b[0m, in \u001b[0;36mDataFrame._set_item_mgr\u001b[0;34m(self, key, value, refs)\u001b[0m\n\u001b[1;32m   4484\u001b[0m \u001b[38;5;28;01mtry\u001b[39;00m:\n\u001b[0;32m-> 4485\u001b[0m     loc \u001b[38;5;241m=\u001b[39m \u001b[38;5;28;43mself\u001b[39;49m\u001b[38;5;241;43m.\u001b[39;49m\u001b[43m_info_axis\u001b[49m\u001b[38;5;241;43m.\u001b[39;49m\u001b[43mget_loc\u001b[49m\u001b[43m(\u001b[49m\u001b[43mkey\u001b[49m\u001b[43m)\u001b[49m\n\u001b[1;32m   4486\u001b[0m \u001b[38;5;28;01mexcept\u001b[39;00m \u001b[38;5;167;01mKeyError\u001b[39;00m:\n\u001b[1;32m   4487\u001b[0m     \u001b[38;5;66;03m# This item wasn't present, just insert at end\u001b[39;00m\n",
      "File \u001b[0;32m~/anaconda3/envs/trading_env/lib/python3.12/site-packages/pandas/core/indexes/range.py:417\u001b[0m, in \u001b[0;36mRangeIndex.get_loc\u001b[0;34m(self, key)\u001b[0m\n\u001b[1;32m    416\u001b[0m \u001b[38;5;28;01mif\u001b[39;00m \u001b[38;5;28misinstance\u001b[39m(key, Hashable):\n\u001b[0;32m--> 417\u001b[0m     \u001b[38;5;28;01mraise\u001b[39;00m \u001b[38;5;167;01mKeyError\u001b[39;00m(key)\n\u001b[1;32m    418\u001b[0m \u001b[38;5;28mself\u001b[39m\u001b[38;5;241m.\u001b[39m_check_indexing_error(key)\n",
      "\u001b[0;31mKeyError\u001b[0m: 'asset1'",
      "\nDuring handling of the above exception, another exception occurred:\n",
      "\u001b[0;31mValueError\u001b[0m                                Traceback (most recent call last)",
      "Cell \u001b[0;32mIn[7], line 46\u001b[0m\n\u001b[1;32m     43\u001b[0m     \u001b[38;5;28;01mreturn\u001b[39;00m sharpe_ratio, cumulative_returns\u001b[38;5;241m.\u001b[39miloc[\u001b[38;5;241m-\u001b[39m\u001b[38;5;241m1\u001b[39m]  \u001b[38;5;66;03m# Return Sharpe ratio and final cumulative return\u001b[39;00m\n\u001b[1;32m     45\u001b[0m \u001b[38;5;66;03m# Example usage of the function\u001b[39;00m\n\u001b[0;32m---> 46\u001b[0m sharpe_ratio, final_return \u001b[38;5;241m=\u001b[39m \u001b[43mbacktest_pairs_trading\u001b[49m\u001b[43m(\u001b[49m\u001b[43mz_score\u001b[49m\u001b[43m,\u001b[49m\u001b[43m \u001b[49m\u001b[38;5;241;43m2.0\u001b[39;49m\u001b[43m,\u001b[49m\u001b[43m \u001b[49m\u001b[43mdata1\u001b[49m\u001b[43m,\u001b[49m\u001b[43m \u001b[49m\u001b[43mdata2\u001b[49m\u001b[43m)\u001b[49m\n\u001b[1;32m     47\u001b[0m sharpe_ratio, final_return  \u001b[38;5;66;03m# Display the results for verification\u001b[39;00m\n",
      "Cell \u001b[0;32mIn[7], line 19\u001b[0m, in \u001b[0;36mbacktest_pairs_trading\u001b[0;34m(z_score, std_dev_threshold, data1, data2)\u001b[0m\n\u001b[1;32m     16\u001b[0m positions \u001b[38;5;241m=\u001b[39m pd\u001b[38;5;241m.\u001b[39mDataFrame(index\u001b[38;5;241m=\u001b[39mz_score\u001b[38;5;241m.\u001b[39mindex)\n\u001b[1;32m     18\u001b[0m \u001b[38;5;66;03m# Define trading signals based on Z-score thresholds\u001b[39;00m\n\u001b[0;32m---> 19\u001b[0m \u001b[43mpositions\u001b[49m\u001b[43m[\u001b[49m\u001b[38;5;124;43m'\u001b[39;49m\u001b[38;5;124;43masset1\u001b[39;49m\u001b[38;5;124;43m'\u001b[39;49m\u001b[43m]\u001b[49m \u001b[38;5;241m=\u001b[39m np\u001b[38;5;241m.\u001b[39mselect(\n\u001b[1;32m     20\u001b[0m     [z_score \u001b[38;5;241m<\u001b[39m \u001b[38;5;241m-\u001b[39mstd_dev_threshold, z_score \u001b[38;5;241m>\u001b[39m std_dev_threshold, \u001b[38;5;28mabs\u001b[39m(z_score) \u001b[38;5;241m<\u001b[39m \u001b[38;5;241m0.5\u001b[39m],  \u001b[38;5;66;03m# Include an exit condition\u001b[39;00m\n\u001b[1;32m     21\u001b[0m     [\u001b[38;5;241m1\u001b[39m, \u001b[38;5;241m-\u001b[39m\u001b[38;5;241m1\u001b[39m, \u001b[38;5;241m0\u001b[39m],  \u001b[38;5;66;03m# Long, short, or exit\u001b[39;00m\n\u001b[1;32m     22\u001b[0m     default\u001b[38;5;241m=\u001b[39m\u001b[38;5;241m0\u001b[39m\n\u001b[1;32m     23\u001b[0m )\n\u001b[1;32m     24\u001b[0m positions[\u001b[38;5;124m'\u001b[39m\u001b[38;5;124masset2\u001b[39m\u001b[38;5;124m'\u001b[39m] \u001b[38;5;241m=\u001b[39m np\u001b[38;5;241m.\u001b[39mselect(\n\u001b[1;32m     25\u001b[0m     [z_score \u001b[38;5;241m<\u001b[39m \u001b[38;5;241m-\u001b[39mstd_dev_threshold, z_score \u001b[38;5;241m>\u001b[39m std_dev_threshold, \u001b[38;5;28mabs\u001b[39m(z_score) \u001b[38;5;241m<\u001b[39m \u001b[38;5;241m0.5\u001b[39m],\n\u001b[1;32m     26\u001b[0m     [\u001b[38;5;241m-\u001b[39m\u001b[38;5;241m1\u001b[39m, \u001b[38;5;241m1\u001b[39m, \u001b[38;5;241m0\u001b[39m],  \u001b[38;5;66;03m# Opposite positions for the second asset\u001b[39;00m\n\u001b[1;32m     27\u001b[0m     default\u001b[38;5;241m=\u001b[39m\u001b[38;5;241m0\u001b[39m\n\u001b[1;32m     28\u001b[0m )\n\u001b[1;32m     30\u001b[0m \u001b[38;5;66;03m# Calculate daily returns for both assets\u001b[39;00m\n",
      "File \u001b[0;32m~/anaconda3/envs/trading_env/lib/python3.12/site-packages/pandas/core/frame.py:4311\u001b[0m, in \u001b[0;36mDataFrame.__setitem__\u001b[0;34m(self, key, value)\u001b[0m\n\u001b[1;32m   4308\u001b[0m     \u001b[38;5;28mself\u001b[39m\u001b[38;5;241m.\u001b[39m_setitem_array([key], value)\n\u001b[1;32m   4309\u001b[0m \u001b[38;5;28;01melse\u001b[39;00m:\n\u001b[1;32m   4310\u001b[0m     \u001b[38;5;66;03m# set column\u001b[39;00m\n\u001b[0;32m-> 4311\u001b[0m     \u001b[38;5;28;43mself\u001b[39;49m\u001b[38;5;241;43m.\u001b[39;49m\u001b[43m_set_item\u001b[49m\u001b[43m(\u001b[49m\u001b[43mkey\u001b[49m\u001b[43m,\u001b[49m\u001b[43m \u001b[49m\u001b[43mvalue\u001b[49m\u001b[43m)\u001b[49m\n",
      "File \u001b[0;32m~/anaconda3/envs/trading_env/lib/python3.12/site-packages/pandas/core/frame.py:4538\u001b[0m, in \u001b[0;36mDataFrame._set_item\u001b[0;34m(self, key, value)\u001b[0m\n\u001b[1;32m   4535\u001b[0m             value \u001b[38;5;241m=\u001b[39m np\u001b[38;5;241m.\u001b[39mtile(value, (\u001b[38;5;28mlen\u001b[39m(existing_piece\u001b[38;5;241m.\u001b[39mcolumns), \u001b[38;5;241m1\u001b[39m))\u001b[38;5;241m.\u001b[39mT\n\u001b[1;32m   4536\u001b[0m             refs \u001b[38;5;241m=\u001b[39m \u001b[38;5;28;01mNone\u001b[39;00m\n\u001b[0;32m-> 4538\u001b[0m \u001b[38;5;28;43mself\u001b[39;49m\u001b[38;5;241;43m.\u001b[39;49m\u001b[43m_set_item_mgr\u001b[49m\u001b[43m(\u001b[49m\u001b[43mkey\u001b[49m\u001b[43m,\u001b[49m\u001b[43m \u001b[49m\u001b[43mvalue\u001b[49m\u001b[43m,\u001b[49m\u001b[43m \u001b[49m\u001b[43mrefs\u001b[49m\u001b[43m)\u001b[49m\n",
      "File \u001b[0;32m~/anaconda3/envs/trading_env/lib/python3.12/site-packages/pandas/core/frame.py:4488\u001b[0m, in \u001b[0;36mDataFrame._set_item_mgr\u001b[0;34m(self, key, value, refs)\u001b[0m\n\u001b[1;32m   4485\u001b[0m     loc \u001b[38;5;241m=\u001b[39m \u001b[38;5;28mself\u001b[39m\u001b[38;5;241m.\u001b[39m_info_axis\u001b[38;5;241m.\u001b[39mget_loc(key)\n\u001b[1;32m   4486\u001b[0m \u001b[38;5;28;01mexcept\u001b[39;00m \u001b[38;5;167;01mKeyError\u001b[39;00m:\n\u001b[1;32m   4487\u001b[0m     \u001b[38;5;66;03m# This item wasn't present, just insert at end\u001b[39;00m\n\u001b[0;32m-> 4488\u001b[0m     \u001b[38;5;28;43mself\u001b[39;49m\u001b[38;5;241;43m.\u001b[39;49m\u001b[43m_mgr\u001b[49m\u001b[38;5;241;43m.\u001b[39;49m\u001b[43minsert\u001b[49m\u001b[43m(\u001b[49m\u001b[38;5;28;43mlen\u001b[39;49m\u001b[43m(\u001b[49m\u001b[38;5;28;43mself\u001b[39;49m\u001b[38;5;241;43m.\u001b[39;49m\u001b[43m_info_axis\u001b[49m\u001b[43m)\u001b[49m\u001b[43m,\u001b[49m\u001b[43m \u001b[49m\u001b[43mkey\u001b[49m\u001b[43m,\u001b[49m\u001b[43m \u001b[49m\u001b[43mvalue\u001b[49m\u001b[43m,\u001b[49m\u001b[43m \u001b[49m\u001b[43mrefs\u001b[49m\u001b[43m)\u001b[49m\n\u001b[1;32m   4489\u001b[0m \u001b[38;5;28;01melse\u001b[39;00m:\n\u001b[1;32m   4490\u001b[0m     \u001b[38;5;28mself\u001b[39m\u001b[38;5;241m.\u001b[39m_iset_item_mgr(loc, value, refs\u001b[38;5;241m=\u001b[39mrefs)\n",
      "File \u001b[0;32m~/anaconda3/envs/trading_env/lib/python3.12/site-packages/pandas/core/internals/managers.py:1370\u001b[0m, in \u001b[0;36mBlockManager.insert\u001b[0;34m(self, loc, item, value, refs)\u001b[0m\n\u001b[1;32m   1368\u001b[0m     value \u001b[38;5;241m=\u001b[39m value\u001b[38;5;241m.\u001b[39mT\n\u001b[1;32m   1369\u001b[0m     \u001b[38;5;28;01mif\u001b[39;00m \u001b[38;5;28mlen\u001b[39m(value) \u001b[38;5;241m>\u001b[39m \u001b[38;5;241m1\u001b[39m:\n\u001b[0;32m-> 1370\u001b[0m         \u001b[38;5;28;01mraise\u001b[39;00m \u001b[38;5;167;01mValueError\u001b[39;00m(\n\u001b[1;32m   1371\u001b[0m             \u001b[38;5;124mf\u001b[39m\u001b[38;5;124m\"\u001b[39m\u001b[38;5;124mExpected a 1D array, got an array with shape \u001b[39m\u001b[38;5;132;01m{\u001b[39;00mvalue\u001b[38;5;241m.\u001b[39mT\u001b[38;5;241m.\u001b[39mshape\u001b[38;5;132;01m}\u001b[39;00m\u001b[38;5;124m\"\u001b[39m\n\u001b[1;32m   1372\u001b[0m         )\n\u001b[1;32m   1373\u001b[0m \u001b[38;5;28;01melse\u001b[39;00m:\n\u001b[1;32m   1374\u001b[0m     value \u001b[38;5;241m=\u001b[39m ensure_block_shape(value, ndim\u001b[38;5;241m=\u001b[39m\u001b[38;5;28mself\u001b[39m\u001b[38;5;241m.\u001b[39mndim)\n",
      "\u001b[0;31mValueError\u001b[0m: Expected a 1D array, got an array with shape (501, 2)"
     ]
    }
   ],
   "source": [
    "# Define a function to backtest the pairs trading strategy\n",
    "def backtest_pairs_trading(z_score, std_dev_threshold, data1, data2):\n",
    "    \"\"\"\n",
    "    Backtest the pairs trading strategy based on Z-score thresholds.\n",
    "\n",
    "    Parameters:\n",
    "    z_score (pd.Series): Z-score of the spread.\n",
    "    std_dev_threshold (float): Standard deviation threshold for entering/exiting trades.\n",
    "    data1 (pd.DataFrame): Historical price data for the first asset.\n",
    "    data2 (pd.DataFrame): Historical price data for the second asset.\n",
    "\n",
    "    Returns:\n",
    "    tuple: Sharpe ratio and final cumulative return of the strategy.\n",
    "    \"\"\"\n",
    "    # Initialize positions DataFrame\n",
    "    positions = pd.DataFrame(index=z_score.index)\n",
    "    \n",
    "    # Define trading signals based on Z-score thresholds\n",
    "    positions['asset1'] = np.select(\n",
    "        [z_score < -std_dev_threshold, z_score > std_dev_threshold, abs(z_score) < 0.5],  # Include an exit condition\n",
    "        [1, -1, 0],  # Long, short, or exit\n",
    "        default=0\n",
    "    )\n",
    "    positions['asset2'] = np.select(\n",
    "        [z_score < -std_dev_threshold, z_score > std_dev_threshold, abs(z_score) < 0.5],\n",
    "        [-1, 1, 0],  # Opposite positions for the second asset\n",
    "        default=0\n",
    "    )\n",
    "\n",
    "    # Calculate daily returns for both assets\n",
    "    asset1_returns = data1['Close'].pct_change()\n",
    "    asset2_returns = data2['Close'].pct_change()\n",
    "    \n",
    "    # Calculate portfolio returns\n",
    "    portfolio_returns = positions['asset1'].shift(1) * asset1_returns + positions['asset2'].shift(1) * asset2_returns\n",
    "    \n",
    "    # Calculate cumulative returns\n",
    "    cumulative_returns = (1 + portfolio_returns).cumprod()\n",
    "    \n",
    "    # Calculate Sharpe ratio\n",
    "    sharpe_ratio = portfolio_returns.mean() / portfolio_returns.std() * np.sqrt(252)\n",
    "    \n",
    "    return sharpe_ratio, cumulative_returns.iloc[-1]  # Return Sharpe ratio and final cumulative return\n",
    "\n",
    "# Example usage of the function\n",
    "sharpe_ratio, final_return = backtest_pairs_trading(z_score, 2.0, data1, data2)\n",
    "sharpe_ratio, final_return  # Display the results for verification"
   ]
  },
  {
   "cell_type": "markdown",
   "metadata": {},
   "source": [
    "# Optimize Standard Deviation Band\n",
    "Iterate over different standard deviation multiples to find the optimal band that maximizes the Sharpe ratio."
   ]
  },
  {
   "cell_type": "code",
   "execution_count": 8,
   "metadata": {},
   "outputs": [
    {
     "ename": "ValueError",
     "evalue": "Expected a 1D array, got an array with shape (501, 2)",
     "output_type": "error",
     "traceback": [
      "\u001b[0;31m---------------------------------------------------------------------------\u001b[0m",
      "\u001b[0;31mKeyError\u001b[0m                                  Traceback (most recent call last)",
      "File \u001b[0;32m~/anaconda3/envs/trading_env/lib/python3.12/site-packages/pandas/core/frame.py:4485\u001b[0m, in \u001b[0;36mDataFrame._set_item_mgr\u001b[0;34m(self, key, value, refs)\u001b[0m\n\u001b[1;32m   4484\u001b[0m \u001b[38;5;28;01mtry\u001b[39;00m:\n\u001b[0;32m-> 4485\u001b[0m     loc \u001b[38;5;241m=\u001b[39m \u001b[38;5;28;43mself\u001b[39;49m\u001b[38;5;241;43m.\u001b[39;49m\u001b[43m_info_axis\u001b[49m\u001b[38;5;241;43m.\u001b[39;49m\u001b[43mget_loc\u001b[49m\u001b[43m(\u001b[49m\u001b[43mkey\u001b[49m\u001b[43m)\u001b[49m\n\u001b[1;32m   4486\u001b[0m \u001b[38;5;28;01mexcept\u001b[39;00m \u001b[38;5;167;01mKeyError\u001b[39;00m:\n\u001b[1;32m   4487\u001b[0m     \u001b[38;5;66;03m# This item wasn't present, just insert at end\u001b[39;00m\n",
      "File \u001b[0;32m~/anaconda3/envs/trading_env/lib/python3.12/site-packages/pandas/core/indexes/range.py:417\u001b[0m, in \u001b[0;36mRangeIndex.get_loc\u001b[0;34m(self, key)\u001b[0m\n\u001b[1;32m    416\u001b[0m \u001b[38;5;28;01mif\u001b[39;00m \u001b[38;5;28misinstance\u001b[39m(key, Hashable):\n\u001b[0;32m--> 417\u001b[0m     \u001b[38;5;28;01mraise\u001b[39;00m \u001b[38;5;167;01mKeyError\u001b[39;00m(key)\n\u001b[1;32m    418\u001b[0m \u001b[38;5;28mself\u001b[39m\u001b[38;5;241m.\u001b[39m_check_indexing_error(key)\n",
      "\u001b[0;31mKeyError\u001b[0m: 'asset1'",
      "\nDuring handling of the above exception, another exception occurred:\n",
      "\u001b[0;31mValueError\u001b[0m                                Traceback (most recent call last)",
      "Cell \u001b[0;32mIn[8], line 10\u001b[0m\n\u001b[1;32m      7\u001b[0m \u001b[38;5;66;03m# Loop through each standard deviation multiple\u001b[39;00m\n\u001b[1;32m      8\u001b[0m \u001b[38;5;28;01mfor\u001b[39;00m multiple \u001b[38;5;129;01min\u001b[39;00m std_dev_multiples:\n\u001b[1;32m      9\u001b[0m     \u001b[38;5;66;03m# Backtest the strategy for the current standard deviation multiple\u001b[39;00m\n\u001b[0;32m---> 10\u001b[0m     sharpe, final_return \u001b[38;5;241m=\u001b[39m \u001b[43mbacktest_pairs_trading\u001b[49m\u001b[43m(\u001b[49m\u001b[43mz_score\u001b[49m\u001b[43m,\u001b[49m\u001b[43m \u001b[49m\u001b[43mmultiple\u001b[49m\u001b[43m,\u001b[49m\u001b[43m \u001b[49m\u001b[43mdata1\u001b[49m\u001b[43m,\u001b[49m\u001b[43m \u001b[49m\u001b[43mdata2\u001b[49m\u001b[43m)\u001b[49m\n\u001b[1;32m     11\u001b[0m     \u001b[38;5;66;03m# Append the results to the list\u001b[39;00m\n\u001b[1;32m     12\u001b[0m     results\u001b[38;5;241m.\u001b[39mappend({\u001b[38;5;124m'\u001b[39m\u001b[38;5;124mstd_dev_multiple\u001b[39m\u001b[38;5;124m'\u001b[39m: multiple, \u001b[38;5;124m'\u001b[39m\u001b[38;5;124msharpe_ratio\u001b[39m\u001b[38;5;124m'\u001b[39m: sharpe, \u001b[38;5;124m'\u001b[39m\u001b[38;5;124mfinal_return\u001b[39m\u001b[38;5;124m'\u001b[39m: final_return})\n",
      "Cell \u001b[0;32mIn[7], line 19\u001b[0m, in \u001b[0;36mbacktest_pairs_trading\u001b[0;34m(z_score, std_dev_threshold, data1, data2)\u001b[0m\n\u001b[1;32m     16\u001b[0m positions \u001b[38;5;241m=\u001b[39m pd\u001b[38;5;241m.\u001b[39mDataFrame(index\u001b[38;5;241m=\u001b[39mz_score\u001b[38;5;241m.\u001b[39mindex)\n\u001b[1;32m     18\u001b[0m \u001b[38;5;66;03m# Define trading signals based on Z-score thresholds\u001b[39;00m\n\u001b[0;32m---> 19\u001b[0m \u001b[43mpositions\u001b[49m\u001b[43m[\u001b[49m\u001b[38;5;124;43m'\u001b[39;49m\u001b[38;5;124;43masset1\u001b[39;49m\u001b[38;5;124;43m'\u001b[39;49m\u001b[43m]\u001b[49m \u001b[38;5;241m=\u001b[39m np\u001b[38;5;241m.\u001b[39mselect(\n\u001b[1;32m     20\u001b[0m     [z_score \u001b[38;5;241m<\u001b[39m \u001b[38;5;241m-\u001b[39mstd_dev_threshold, z_score \u001b[38;5;241m>\u001b[39m std_dev_threshold, \u001b[38;5;28mabs\u001b[39m(z_score) \u001b[38;5;241m<\u001b[39m \u001b[38;5;241m0.5\u001b[39m],  \u001b[38;5;66;03m# Include an exit condition\u001b[39;00m\n\u001b[1;32m     21\u001b[0m     [\u001b[38;5;241m1\u001b[39m, \u001b[38;5;241m-\u001b[39m\u001b[38;5;241m1\u001b[39m, \u001b[38;5;241m0\u001b[39m],  \u001b[38;5;66;03m# Long, short, or exit\u001b[39;00m\n\u001b[1;32m     22\u001b[0m     default\u001b[38;5;241m=\u001b[39m\u001b[38;5;241m0\u001b[39m\n\u001b[1;32m     23\u001b[0m )\n\u001b[1;32m     24\u001b[0m positions[\u001b[38;5;124m'\u001b[39m\u001b[38;5;124masset2\u001b[39m\u001b[38;5;124m'\u001b[39m] \u001b[38;5;241m=\u001b[39m np\u001b[38;5;241m.\u001b[39mselect(\n\u001b[1;32m     25\u001b[0m     [z_score \u001b[38;5;241m<\u001b[39m \u001b[38;5;241m-\u001b[39mstd_dev_threshold, z_score \u001b[38;5;241m>\u001b[39m std_dev_threshold, \u001b[38;5;28mabs\u001b[39m(z_score) \u001b[38;5;241m<\u001b[39m \u001b[38;5;241m0.5\u001b[39m],\n\u001b[1;32m     26\u001b[0m     [\u001b[38;5;241m-\u001b[39m\u001b[38;5;241m1\u001b[39m, \u001b[38;5;241m1\u001b[39m, \u001b[38;5;241m0\u001b[39m],  \u001b[38;5;66;03m# Opposite positions for the second asset\u001b[39;00m\n\u001b[1;32m     27\u001b[0m     default\u001b[38;5;241m=\u001b[39m\u001b[38;5;241m0\u001b[39m\n\u001b[1;32m     28\u001b[0m )\n\u001b[1;32m     30\u001b[0m \u001b[38;5;66;03m# Calculate daily returns for both assets\u001b[39;00m\n",
      "File \u001b[0;32m~/anaconda3/envs/trading_env/lib/python3.12/site-packages/pandas/core/frame.py:4311\u001b[0m, in \u001b[0;36mDataFrame.__setitem__\u001b[0;34m(self, key, value)\u001b[0m\n\u001b[1;32m   4308\u001b[0m     \u001b[38;5;28mself\u001b[39m\u001b[38;5;241m.\u001b[39m_setitem_array([key], value)\n\u001b[1;32m   4309\u001b[0m \u001b[38;5;28;01melse\u001b[39;00m:\n\u001b[1;32m   4310\u001b[0m     \u001b[38;5;66;03m# set column\u001b[39;00m\n\u001b[0;32m-> 4311\u001b[0m     \u001b[38;5;28;43mself\u001b[39;49m\u001b[38;5;241;43m.\u001b[39;49m\u001b[43m_set_item\u001b[49m\u001b[43m(\u001b[49m\u001b[43mkey\u001b[49m\u001b[43m,\u001b[49m\u001b[43m \u001b[49m\u001b[43mvalue\u001b[49m\u001b[43m)\u001b[49m\n",
      "File \u001b[0;32m~/anaconda3/envs/trading_env/lib/python3.12/site-packages/pandas/core/frame.py:4538\u001b[0m, in \u001b[0;36mDataFrame._set_item\u001b[0;34m(self, key, value)\u001b[0m\n\u001b[1;32m   4535\u001b[0m             value \u001b[38;5;241m=\u001b[39m np\u001b[38;5;241m.\u001b[39mtile(value, (\u001b[38;5;28mlen\u001b[39m(existing_piece\u001b[38;5;241m.\u001b[39mcolumns), \u001b[38;5;241m1\u001b[39m))\u001b[38;5;241m.\u001b[39mT\n\u001b[1;32m   4536\u001b[0m             refs \u001b[38;5;241m=\u001b[39m \u001b[38;5;28;01mNone\u001b[39;00m\n\u001b[0;32m-> 4538\u001b[0m \u001b[38;5;28;43mself\u001b[39;49m\u001b[38;5;241;43m.\u001b[39;49m\u001b[43m_set_item_mgr\u001b[49m\u001b[43m(\u001b[49m\u001b[43mkey\u001b[49m\u001b[43m,\u001b[49m\u001b[43m \u001b[49m\u001b[43mvalue\u001b[49m\u001b[43m,\u001b[49m\u001b[43m \u001b[49m\u001b[43mrefs\u001b[49m\u001b[43m)\u001b[49m\n",
      "File \u001b[0;32m~/anaconda3/envs/trading_env/lib/python3.12/site-packages/pandas/core/frame.py:4488\u001b[0m, in \u001b[0;36mDataFrame._set_item_mgr\u001b[0;34m(self, key, value, refs)\u001b[0m\n\u001b[1;32m   4485\u001b[0m     loc \u001b[38;5;241m=\u001b[39m \u001b[38;5;28mself\u001b[39m\u001b[38;5;241m.\u001b[39m_info_axis\u001b[38;5;241m.\u001b[39mget_loc(key)\n\u001b[1;32m   4486\u001b[0m \u001b[38;5;28;01mexcept\u001b[39;00m \u001b[38;5;167;01mKeyError\u001b[39;00m:\n\u001b[1;32m   4487\u001b[0m     \u001b[38;5;66;03m# This item wasn't present, just insert at end\u001b[39;00m\n\u001b[0;32m-> 4488\u001b[0m     \u001b[38;5;28;43mself\u001b[39;49m\u001b[38;5;241;43m.\u001b[39;49m\u001b[43m_mgr\u001b[49m\u001b[38;5;241;43m.\u001b[39;49m\u001b[43minsert\u001b[49m\u001b[43m(\u001b[49m\u001b[38;5;28;43mlen\u001b[39;49m\u001b[43m(\u001b[49m\u001b[38;5;28;43mself\u001b[39;49m\u001b[38;5;241;43m.\u001b[39;49m\u001b[43m_info_axis\u001b[49m\u001b[43m)\u001b[49m\u001b[43m,\u001b[49m\u001b[43m \u001b[49m\u001b[43mkey\u001b[49m\u001b[43m,\u001b[49m\u001b[43m \u001b[49m\u001b[43mvalue\u001b[49m\u001b[43m,\u001b[49m\u001b[43m \u001b[49m\u001b[43mrefs\u001b[49m\u001b[43m)\u001b[49m\n\u001b[1;32m   4489\u001b[0m \u001b[38;5;28;01melse\u001b[39;00m:\n\u001b[1;32m   4490\u001b[0m     \u001b[38;5;28mself\u001b[39m\u001b[38;5;241m.\u001b[39m_iset_item_mgr(loc, value, refs\u001b[38;5;241m=\u001b[39mrefs)\n",
      "File \u001b[0;32m~/anaconda3/envs/trading_env/lib/python3.12/site-packages/pandas/core/internals/managers.py:1370\u001b[0m, in \u001b[0;36mBlockManager.insert\u001b[0;34m(self, loc, item, value, refs)\u001b[0m\n\u001b[1;32m   1368\u001b[0m     value \u001b[38;5;241m=\u001b[39m value\u001b[38;5;241m.\u001b[39mT\n\u001b[1;32m   1369\u001b[0m     \u001b[38;5;28;01mif\u001b[39;00m \u001b[38;5;28mlen\u001b[39m(value) \u001b[38;5;241m>\u001b[39m \u001b[38;5;241m1\u001b[39m:\n\u001b[0;32m-> 1370\u001b[0m         \u001b[38;5;28;01mraise\u001b[39;00m \u001b[38;5;167;01mValueError\u001b[39;00m(\n\u001b[1;32m   1371\u001b[0m             \u001b[38;5;124mf\u001b[39m\u001b[38;5;124m\"\u001b[39m\u001b[38;5;124mExpected a 1D array, got an array with shape \u001b[39m\u001b[38;5;132;01m{\u001b[39;00mvalue\u001b[38;5;241m.\u001b[39mT\u001b[38;5;241m.\u001b[39mshape\u001b[38;5;132;01m}\u001b[39;00m\u001b[38;5;124m\"\u001b[39m\n\u001b[1;32m   1372\u001b[0m         )\n\u001b[1;32m   1373\u001b[0m \u001b[38;5;28;01melse\u001b[39;00m:\n\u001b[1;32m   1374\u001b[0m     value \u001b[38;5;241m=\u001b[39m ensure_block_shape(value, ndim\u001b[38;5;241m=\u001b[39m\u001b[38;5;28mself\u001b[39m\u001b[38;5;241m.\u001b[39mndim)\n",
      "\u001b[0;31mValueError\u001b[0m: Expected a 1D array, got an array with shape (501, 2)"
     ]
    }
   ],
   "source": [
    "# Optimize Standard Deviation Band\n",
    "# Iterate over different standard deviation multiples to find the optimal band that maximizes the Sharpe ratio\n",
    "\n",
    "# Initialize a list to store results\n",
    "results = []\n",
    "\n",
    "# Loop through each standard deviation multiple\n",
    "for multiple in std_dev_multiples:\n",
    "    # Backtest the strategy for the current standard deviation multiple\n",
    "    sharpe, final_return = backtest_pairs_trading(z_score, multiple, data1, data2)\n",
    "    # Append the results to the list\n",
    "    results.append({'std_dev_multiple': multiple, 'sharpe_ratio': sharpe, 'final_return': final_return})\n",
    "\n",
    "# Convert the results into a DataFrame for analysis\n",
    "results_df = pd.DataFrame(results)\n",
    "\n",
    "# Identify the optimal standard deviation multiple that maximizes the Sharpe ratio\n",
    "optimal_band = results_df.loc[results_df['sharpe_ratio'].idxmax()]\n",
    "\n",
    "# Display the optimization results\n",
    "print(\"Optimization Results:\")\n",
    "print(results_df)\n",
    "print(\"\\nOptimal Band (std_dev_multiple):\", optimal_band['std_dev_multiple'])\n",
    "print(\"Optimal Sharpe Ratio:\", optimal_band['sharpe_ratio'])"
   ]
  },
  {
   "cell_type": "markdown",
   "metadata": {},
   "source": [
    "# Display Results\n",
    "Display the optimization results and print the optimal standard deviation band and corresponding Sharpe ratio."
   ]
  },
  {
   "cell_type": "code",
   "execution_count": 9,
   "metadata": {},
   "outputs": [
    {
     "name": "stdout",
     "output_type": "stream",
     "text": [
      "Optimization Results:\n"
     ]
    },
    {
     "ename": "NameError",
     "evalue": "name 'results_df' is not defined",
     "output_type": "error",
     "traceback": [
      "\u001b[0;31m---------------------------------------------------------------------------\u001b[0m",
      "\u001b[0;31mNameError\u001b[0m                                 Traceback (most recent call last)",
      "Cell \u001b[0;32mIn[9], line 6\u001b[0m\n\u001b[1;32m      4\u001b[0m \u001b[38;5;66;03m# Display the results DataFrame\u001b[39;00m\n\u001b[1;32m      5\u001b[0m \u001b[38;5;28mprint\u001b[39m(\u001b[38;5;124m\"\u001b[39m\u001b[38;5;124mOptimization Results:\u001b[39m\u001b[38;5;124m\"\u001b[39m)\n\u001b[0;32m----> 6\u001b[0m display(\u001b[43mresults_df\u001b[49m)\n\u001b[1;32m      8\u001b[0m \u001b[38;5;66;03m# Print the optimal standard deviation band and corresponding Sharpe ratio\u001b[39;00m\n\u001b[1;32m      9\u001b[0m \u001b[38;5;28mprint\u001b[39m(\u001b[38;5;124m\"\u001b[39m\u001b[38;5;130;01m\\n\u001b[39;00m\u001b[38;5;124mOptimal Band (std_dev_multiple):\u001b[39m\u001b[38;5;124m\"\u001b[39m, optimal_band[\u001b[38;5;124m'\u001b[39m\u001b[38;5;124mstd_dev_multiple\u001b[39m\u001b[38;5;124m'\u001b[39m])\n",
      "\u001b[0;31mNameError\u001b[0m: name 'results_df' is not defined"
     ]
    }
   ],
   "source": [
    "# Display the optimization results in a clear format\n",
    "from IPython.display import display\n",
    "\n",
    "# Display the results DataFrame\n",
    "print(\"Optimization Results:\")\n",
    "display(results_df)\n",
    "\n",
    "# Print the optimal standard deviation band and corresponding Sharpe ratio\n",
    "print(\"\\nOptimal Band (std_dev_multiple):\", optimal_band['std_dev_multiple'])\n",
    "print(\"Optimal Sharpe Ratio:\", optimal_band['sharpe_ratio'])"
   ]
  }
 ],
 "metadata": {
  "kernelspec": {
   "display_name": "trading_env",
   "language": "python",
   "name": "python3"
  },
  "language_info": {
   "codemirror_mode": {
    "name": "ipython",
    "version": 3
   },
   "file_extension": ".py",
   "mimetype": "text/x-python",
   "name": "python",
   "nbconvert_exporter": "python",
   "pygments_lexer": "ipython3",
   "version": "3.12.7"
  }
 },
 "nbformat": 4,
 "nbformat_minor": 2
}
